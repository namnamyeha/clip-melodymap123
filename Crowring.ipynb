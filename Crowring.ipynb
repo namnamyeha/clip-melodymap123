{
 "cells": [
  {
   "cell_type": "code",
   "id": "initial_id",
   "metadata": {
    "collapsed": true,
    "ExecuteTime": {
     "end_time": "2024-05-21T03:48:14.477096Z",
     "start_time": "2024-05-21T03:48:14.473202Z"
    }
   },
   "source": [
    "import time\n",
    "import pandas as pd\n",
    "from selenium import webdriver\n",
    "from selenium.webdriver.common.by import By\n",
    "from selenium.webdriver.support.ui import WebDriverWait\n",
    "from selenium.webdriver.support import expected_conditions as EC\n",
    "from selenium.common.exceptions import NoSuchElementException, TimeoutException, ElementClickInterceptedException\n",
    "from selenium.webdriver.common.action_chains import ActionChains"
   ],
   "outputs": [],
   "execution_count": 16
  },
  {
   "metadata": {},
   "cell_type": "code",
   "outputs": [],
   "execution_count": null,
   "source": "",
   "id": "c711734014551b7a"
  },
  {
   "metadata": {
    "ExecuteTime": {
     "end_time": "2024-05-21T03:49:21.574831Z",
     "start_time": "2024-05-21T03:48:16.099669Z"
    }
   },
   "cell_type": "code",
   "source": [
    "\n",
    "# 검색할 키워드 설정\n",
    "keyword = \"여수\"\n",
    "URL = f\"https://korean.visitkorea.or.kr/search/search_list.do?keyword={keyword}\"\n",
    "\n",
    "# 장소 이름과 정보 저장 리스트 초기화\n",
    "poi_names = []\n",
    "poi_info = []\n",
    "\n",
    "# 웹 드라이버 실행 (크롬 드라이버 사용)\n",
    "driver = webdriver.Chrome()\n",
    "driver.get(URL)\n",
    "\n",
    "# 페이지 로딩을 위해 잠시 대기\n",
    "time.sleep(3)\n",
    "\n",
    "# '명소' 탭 클릭\n",
    "place_tab = driver.find_element(By.CSS_SELECTOR, '#t_attraction')\n",
    "time.sleep(3)\n",
    "place_tab.click()\n",
    "\n",
    "# 현재 페이지 번호와 최대 페이지 수 설정\n",
    "current_page = 1\n",
    "max_pages = 5\n",
    "\n",
    "while True:\n",
    "    # 페이지 로딩을 위해 잠시 대기\n",
    "    time.sleep(5)\n",
    "\n",
    "    # 명소 리스트 요소 찾기\n",
    "    places = driver.find_elements(By.CSS_SELECTOR, '#search_result > ul > li')\n",
    "\n",
    "    for i in range(len(places)):\n",
    "         # 명소 리스트 요소를 다시 찾기\n",
    "        places = driver.find_elements(By.CSS_SELECTOR, '#search_result > ul > li')\n",
    "        place = places[i]\n",
    "        driver.execute_script(\"window.scrollTo(0, 0)\")\n",
    "        \n",
    "        if place.get_attribute('class').startswith('banner'):\n",
    "            continue\n",
    "        # 제목을 클릭해서 상세페이지로 이동해줍니다.\n",
    "        place.find_element(By.XPATH, './div[1]/div[1]/a').click()\n",
    "        time.sleep(3)\n",
    "\n",
    "        # 명소 이름과 정보를 추출하여 리스트에 추가\n",
    "        poi_name = WebDriverWait(driver, 10).until(EC.visibility_of_element_located((By.CSS_SELECTOR, '#topTitle'))).text\n",
    "        print(poi_name)\n",
    "        try:\n",
    "            poi_info_ = driver.find_element(By.CSS_SELECTOR, '.dbDetail.titBg .titTypeWrap > h3 > em').text\n",
    "        except NoSuchElementException:\n",
    "                poi_info_ = '정보없음'\n",
    "        print(poi_info_)\n",
    "        poi_info.append(poi_info_)\n",
    "        \n",
    "        poi_names.append(poi_name)\n",
    "        poi_info.append(poi_info_)\n",
    "        \n",
    "        # 이전 페이지로 돌아가기\n",
    "        driver.back()\n",
    "    time.sleep(5)\n",
    "    # 페이지 이동을 위한 네비게이션 박스 찾기\n",
    "    page_box = driver.find_element(By.CSS_SELECTOR, '#page_box')\n",
    "    try:\n",
    "        for i in range(1, 6):\n",
    "            if i % 5 != 0:\n",
    "                next_page = page_box.find_element(By.XPATH, f'.//a[{i}]')\n",
    "                time.sleep(3)\n",
    "                ActionChains(driver).move_to_element(next_page).perform()\n",
    "                time.sleep(3)\n",
    "                next_page.click()\n",
    "            else:\n",
    "                next_button = WebDriverWait(driver, 10).until(\n",
    "                    EC.element_to_be_clickable((By.CSS_SELECTOR, 'a.btn_next.ico'))\n",
    "                )\n",
    "                next_button.click()\n",
    "                time.sleep(3)\n",
    "                break  # 다음 페이지로 이동 후 다시 리스트를 찾기 위해 break\n",
    "    except TimeoutException:\n",
    "        break\n",
    "\n",
    "# 크롬 드라이버 종료\n",
    "driver.quit()\n",
    "\n"
   ],
   "id": "1b946c2c3a575531",
   "outputs": [
    {
     "name": "stdout",
     "output_type": "stream",
     "text": [
      "여수 민속 전시관\n",
      "한바탕 신나게 놀고 배우는 체험형 전시관\n",
      "여수 테디베어뮤지엄\n",
      "국내 최초 포토 스튜디오형 테디베어뮤지엄\n",
      "여수미술관\n",
      "시민들과 함께 호흡하는 미술관\n",
      "여수신항 (여수엑스포항)\n",
      "정보없음\n",
      "여수 국가산업단지\n",
      "공장의 야경이 낭만적인 곳으로 변신하는 공업단지\n",
      "여수시문화원\n",
      "여수 향토 문화 계승의 요람\n",
      "여수시민회관\n",
      "여수시의 대표적인 공연예술 문화시설\n",
      "여수 가사리 생태공원\n",
      "노을과 갈대가 아름다운 곳\n",
      "여수세계박람회 스카이타워\n",
      "시멘트 사일로에서 스카이타워로의 변신\n",
      "여수 미남크루즈\n",
      "국내 최대 규모의 초호화 선상불꽃크루즈\n"
     ]
    },
    {
     "ename": "StaleElementReferenceException",
     "evalue": "Message: stale element reference: stale element not found in the current frame\n  (Session info: chrome=125.0.6422.60); For documentation on this error, please visit: https://www.selenium.dev/documentation/webdriver/troubleshooting/errors#stale-element-reference-exception\nStacktrace:\n\tGetHandleVerifier [0x00007FF7362E22C2+60002]\n\t(No symbol) [0x00007FF73625CA59]\n\t(No symbol) [0x00007FF736117EDA]\n\t(No symbol) [0x00007FF73611DD0E]\n\t(No symbol) [0x00007FF736120661]\n\t(No symbol) [0x00007FF736120700]\n\t(No symbol) [0x00007FF73616E783]\n\t(No symbol) [0x00007FF73616D9E6]\n\t(No symbol) [0x00007FF7361B6097]\n\t(No symbol) [0x00007FF73618C28A]\n\t(No symbol) [0x00007FF7361ABCC7]\n\t(No symbol) [0x00007FF73618C033]\n\t(No symbol) [0x00007FF736159657]\n\t(No symbol) [0x00007FF73615A251]\n\tGetHandleVerifier [0x00007FF7365F3E2D+3278285]\n\tGetHandleVerifier [0x00007FF736640190+3590448]\n\tGetHandleVerifier [0x00007FF7366361D0+3549552]\n\tGetHandleVerifier [0x00007FF736391DE6+779654]\n\t(No symbol) [0x00007FF736267ACF]\n\t(No symbol) [0x00007FF736262EE4]\n\t(No symbol) [0x00007FF736263072]\n\t(No symbol) [0x00007FF736252C4F]\n\tBaseThreadInitThunk [0x00007FFFEC227344+20]\n\tRtlUserThreadStart [0x00007FFFEE1826B1+33]\n",
     "output_type": "error",
     "traceback": [
      "\u001B[1;31m---------------------------------------------------------------------------\u001B[0m",
      "\u001B[1;31mStaleElementReferenceException\u001B[0m            Traceback (most recent call last)",
      "Cell \u001B[1;32mIn[17], line 67\u001B[0m\n\u001B[0;32m     65\u001B[0m next_page \u001B[38;5;241m=\u001B[39m page_box\u001B[38;5;241m.\u001B[39mfind_element(By\u001B[38;5;241m.\u001B[39mXPATH, \u001B[38;5;124mf\u001B[39m\u001B[38;5;124m'\u001B[39m\u001B[38;5;124m.//a[\u001B[39m\u001B[38;5;132;01m{\u001B[39;00mi\u001B[38;5;132;01m}\u001B[39;00m\u001B[38;5;124m]\u001B[39m\u001B[38;5;124m'\u001B[39m)\n\u001B[0;32m     66\u001B[0m time\u001B[38;5;241m.\u001B[39msleep(\u001B[38;5;241m3\u001B[39m)\n\u001B[1;32m---> 67\u001B[0m ActionChains(driver)\u001B[38;5;241m.\u001B[39mmove_to_element(next_page)\u001B[38;5;241m.\u001B[39mperform()\n\u001B[0;32m     68\u001B[0m time\u001B[38;5;241m.\u001B[39msleep(\u001B[38;5;241m3\u001B[39m)\n\u001B[0;32m     69\u001B[0m next_page\u001B[38;5;241m.\u001B[39mclick()\n",
      "File \u001B[1;32m~\\anaconda3\\envs\\clip-melodymap\\Lib\\site-packages\\selenium\\webdriver\\common\\action_chains.py:94\u001B[0m, in \u001B[0;36mActionChains.perform\u001B[1;34m(self)\u001B[0m\n\u001B[0;32m     92\u001B[0m \u001B[38;5;28;01mdef\u001B[39;00m \u001B[38;5;21mperform\u001B[39m(\u001B[38;5;28mself\u001B[39m) \u001B[38;5;241m-\u001B[39m\u001B[38;5;241m>\u001B[39m \u001B[38;5;28;01mNone\u001B[39;00m:\n\u001B[0;32m     93\u001B[0m \u001B[38;5;250m    \u001B[39m\u001B[38;5;124;03m\"\"\"Performs all stored actions.\"\"\"\u001B[39;00m\n\u001B[1;32m---> 94\u001B[0m     \u001B[38;5;28mself\u001B[39m\u001B[38;5;241m.\u001B[39mw3c_actions\u001B[38;5;241m.\u001B[39mperform()\n",
      "File \u001B[1;32m~\\anaconda3\\envs\\clip-melodymap\\Lib\\site-packages\\selenium\\webdriver\\common\\actions\\action_builder.py:96\u001B[0m, in \u001B[0;36mActionBuilder.perform\u001B[1;34m(self)\u001B[0m\n\u001B[0;32m     94\u001B[0m         enc[\u001B[38;5;124m\"\u001B[39m\u001B[38;5;124mactions\u001B[39m\u001B[38;5;124m\"\u001B[39m]\u001B[38;5;241m.\u001B[39mappend(encoded)\n\u001B[0;32m     95\u001B[0m         device\u001B[38;5;241m.\u001B[39mactions \u001B[38;5;241m=\u001B[39m []\n\u001B[1;32m---> 96\u001B[0m \u001B[38;5;28mself\u001B[39m\u001B[38;5;241m.\u001B[39mdriver\u001B[38;5;241m.\u001B[39mexecute(Command\u001B[38;5;241m.\u001B[39mW3C_ACTIONS, enc)\n",
      "File \u001B[1;32m~\\anaconda3\\envs\\clip-melodymap\\Lib\\site-packages\\selenium\\webdriver\\remote\\webdriver.py:347\u001B[0m, in \u001B[0;36mWebDriver.execute\u001B[1;34m(self, driver_command, params)\u001B[0m\n\u001B[0;32m    345\u001B[0m response \u001B[38;5;241m=\u001B[39m \u001B[38;5;28mself\u001B[39m\u001B[38;5;241m.\u001B[39mcommand_executor\u001B[38;5;241m.\u001B[39mexecute(driver_command, params)\n\u001B[0;32m    346\u001B[0m \u001B[38;5;28;01mif\u001B[39;00m response:\n\u001B[1;32m--> 347\u001B[0m     \u001B[38;5;28mself\u001B[39m\u001B[38;5;241m.\u001B[39merror_handler\u001B[38;5;241m.\u001B[39mcheck_response(response)\n\u001B[0;32m    348\u001B[0m     response[\u001B[38;5;124m\"\u001B[39m\u001B[38;5;124mvalue\u001B[39m\u001B[38;5;124m\"\u001B[39m] \u001B[38;5;241m=\u001B[39m \u001B[38;5;28mself\u001B[39m\u001B[38;5;241m.\u001B[39m_unwrap_value(response\u001B[38;5;241m.\u001B[39mget(\u001B[38;5;124m\"\u001B[39m\u001B[38;5;124mvalue\u001B[39m\u001B[38;5;124m\"\u001B[39m, \u001B[38;5;28;01mNone\u001B[39;00m))\n\u001B[0;32m    349\u001B[0m     \u001B[38;5;28;01mreturn\u001B[39;00m response\n",
      "File \u001B[1;32m~\\anaconda3\\envs\\clip-melodymap\\Lib\\site-packages\\selenium\\webdriver\\remote\\errorhandler.py:229\u001B[0m, in \u001B[0;36mErrorHandler.check_response\u001B[1;34m(self, response)\u001B[0m\n\u001B[0;32m    227\u001B[0m         alert_text \u001B[38;5;241m=\u001B[39m value[\u001B[38;5;124m\"\u001B[39m\u001B[38;5;124malert\u001B[39m\u001B[38;5;124m\"\u001B[39m]\u001B[38;5;241m.\u001B[39mget(\u001B[38;5;124m\"\u001B[39m\u001B[38;5;124mtext\u001B[39m\u001B[38;5;124m\"\u001B[39m)\n\u001B[0;32m    228\u001B[0m     \u001B[38;5;28;01mraise\u001B[39;00m exception_class(message, screen, stacktrace, alert_text)  \u001B[38;5;66;03m# type: ignore[call-arg]  # mypy is not smart enough here\u001B[39;00m\n\u001B[1;32m--> 229\u001B[0m \u001B[38;5;28;01mraise\u001B[39;00m exception_class(message, screen, stacktrace)\n",
      "\u001B[1;31mStaleElementReferenceException\u001B[0m: Message: stale element reference: stale element not found in the current frame\n  (Session info: chrome=125.0.6422.60); For documentation on this error, please visit: https://www.selenium.dev/documentation/webdriver/troubleshooting/errors#stale-element-reference-exception\nStacktrace:\n\tGetHandleVerifier [0x00007FF7362E22C2+60002]\n\t(No symbol) [0x00007FF73625CA59]\n\t(No symbol) [0x00007FF736117EDA]\n\t(No symbol) [0x00007FF73611DD0E]\n\t(No symbol) [0x00007FF736120661]\n\t(No symbol) [0x00007FF736120700]\n\t(No symbol) [0x00007FF73616E783]\n\t(No symbol) [0x00007FF73616D9E6]\n\t(No symbol) [0x00007FF7361B6097]\n\t(No symbol) [0x00007FF73618C28A]\n\t(No symbol) [0x00007FF7361ABCC7]\n\t(No symbol) [0x00007FF73618C033]\n\t(No symbol) [0x00007FF736159657]\n\t(No symbol) [0x00007FF73615A251]\n\tGetHandleVerifier [0x00007FF7365F3E2D+3278285]\n\tGetHandleVerifier [0x00007FF736640190+3590448]\n\tGetHandleVerifier [0x00007FF7366361D0+3549552]\n\tGetHandleVerifier [0x00007FF736391DE6+779654]\n\t(No symbol) [0x00007FF736267ACF]\n\t(No symbol) [0x00007FF736262EE4]\n\t(No symbol) [0x00007FF736263072]\n\t(No symbol) [0x00007FF736252C4F]\n\tBaseThreadInitThunk [0x00007FFFEC227344+20]\n\tRtlUserThreadStart [0x00007FFFEE1826B1+33]\n"
     ]
    }
   ],
   "execution_count": 17
  },
  {
   "metadata": {},
   "cell_type": "code",
   "outputs": [],
   "execution_count": null,
   "source": [
    "data = pd.DataFrame({\n",
    "    'poi_name': poi_names,\n",
    "    'poi_info' : poi_info\n",
    "    \n",
    "}) \n"
   ],
   "id": "5eeda6d89bfcb6ea"
  }
 ],
 "metadata": {
  "kernelspec": {
   "display_name": "Python 3",
   "language": "python",
   "name": "python3"
  },
  "language_info": {
   "codemirror_mode": {
    "name": "ipython",
    "version": 2
   },
   "file_extension": ".py",
   "mimetype": "text/x-python",
   "name": "python",
   "nbconvert_exporter": "python",
   "pygments_lexer": "ipython2",
   "version": "2.7.6"
  }
 },
 "nbformat": 4,
 "nbformat_minor": 5
}
